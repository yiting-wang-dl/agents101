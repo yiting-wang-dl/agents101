{
 "cells": [
  {
   "cell_type": "markdown",
   "id": "03f823e3-6d32-4ef6-8558-d34e6c20900d",
   "metadata": {},
   "source": [
    "## Multiple Chain w/ LCEL\n",
    "\n",
    "Runnables can be used to chain multiple Chains, use RunnablePassthrough to pass the output to multiple downstream chains simultaneously.\n",
    "\n",
    "```\n",
    "     Input\n",
    "      / \\\n",
    "     /   \\\n",
    " Chain1 Chain2\n",
    "     \\   /\n",
    "      \\ /\n",
    "      Combine\n",
    "```\n",
    "\n",
    "In this example, use Runnable to acheive discussion on the same topic among multiple AIs：\n",
    "\n",
    "```\n",
    "    Input topic\n",
    "       |\n",
    "       |\n",
    "original viewpoint\n",
    "      / |\\\n",
    "     /  |  \\\n",
    "supporting| opposing\n",
    "     \\  | /\n",
    "      \\ |/\n",
    "     conclusion\n",
    "```"
   ]
  },
  {
   "cell_type": "code",
   "execution_count": 1,
   "id": "3a699e45-c4ea-460a-8dec-1ab973b5daf7",
   "metadata": {},
   "outputs": [],
   "source": [
    "from operator import itemgetter\n",
    "from langchain_core.output_parsers import StrOutputParser\n",
    "from langchain_core.prompts import ChatPromptTemplate\n",
    "from langchain_openai import ChatOpenAI\n",
    "from langchain_core.runnables import RunnablePassthrough\n",
    "\n",
    "planner = (\n",
    "    ChatPromptTemplate.from_template(\"Generate arguments on the following topic: {input}\")\n",
    "    | ChatOpenAI(model=\"gpt-4o-mini\")\n",
    "    | StrOutputParser()\n",
    "    | {\"base_response\": RunnablePassthrough()}\n",
    ")\n",
    "\n",
    "# Create a processing chain for supporting arguments, listing the positive or favorable aspects of the basic response.\n",
    "arguments_for = (\n",
    "    ChatPromptTemplate.from_template(\n",
    "        \"List the positive or favorable aspects of {base_response}\"\n",
    "    )\n",
    "    | ChatOpenAI(model=\"gpt-4o-mini\")\n",
    "    | StrOutputParser()\n",
    ")\n",
    "\n",
    "# Create a processing chain for counterarguments, listing the negative or unfavorable aspects of the basic response.\n",
    "arguments_against = (\n",
    "    ChatPromptTemplate.from_template(\n",
    "        \"List the negative or unfavorable aspects of {base_response}\"\n",
    "    )\n",
    "    | ChatOpenAI(model=\"gpt-4o-mini\")\n",
    "    | StrOutputParser()\n",
    ")\n",
    "\n",
    "#Create a final responder that synthesizes the original response along with the supporting and opposing arguments to generate a final conclusion.\n",
    "final_responder = (\n",
    "    ChatPromptTemplate.from_messages( # Build a multi-message chat prompt\n",
    "        [\n",
    "            (\"ai\", \"{original_response}\"),\n",
    "            (\"human\", \"Supporting arguments:\\n{results_1}\\n\\nOpposing arguments:\\n{results_2}\"),\n",
    "            (\"system\", \"Generate a final response after providing critiques\"),\n",
    "        ]\n",
    "    )\n",
    "    | ChatOpenAI(model=\"gpt-4o-mini\")\n",
    "    | StrOutputParser()\n",
    ")\n",
    "\n",
    "# Build a complete processing chain, from generating arguments to listing pros and cons, and finally producing the final response.\n",
    "chain = (\n",
    "    planner\n",
    "    | {\n",
    "        \"results_1\": arguments_for,\n",
    "        \"results_2\": arguments_against,\n",
    "        \"original_response\": itemgetter(\"base_response\"),  # Take the value from the key base_response in the planner's output, and pass it to the key original_response expected by final_responder\n",
    "    }\n",
    "    | final_responder\n",
    ")"
   ]
  },
  {
   "cell_type": "code",
   "execution_count": 2,
   "id": "21340302-7a49-48af-a4a5-b516cb5596e0",
   "metadata": {},
   "outputs": [
    {
     "name": "stdout",
     "output_type": "stream",
     "text": [
      "### Final Response\n",
      "\n",
      "The exploration of AI's potential in 2025 reveals a dual-edged sword, showcasing both promising advancements and significant challenges that merit careful consideration. \n",
      "\n",
      "On the positive side, the arguments presented highlight a future where AI significantly enhances productivity, revolutionizes healthcare, creates smarter urban environments, personalizes education, and facilitates groundbreaking research. These developments could lead to substantial societal advancements, improved living standards, and global collaboration. Moreover, the potential for AI to contribute to sustainability and support vulnerable populations underscores its transformative potential.\n",
      "\n",
      "However, a thorough critique of the opposing arguments illuminates serious concerns that cannot be overlooked. The risk of job displacement and economic inequality raises pressing questions about workforce readiness and societal equity. Ethical dilemmas associated with AI decision-making, including accountability and bias, suggest that without rigorous safeguards, these technologies could exacerbate existing social injustices rather than alleviate them. Additionally, the surveillance and privacy risks linked to vast data collection highlight a fundamental tension between innovation and individual rights.\n",
      "\n",
      "The impact of AI on social interactions and mental health is another critical area requiring attention. As society grapples with increasing reliance on technology, maintaining human connections and critical thinking skills becomes vital. \n",
      "\n",
      "The potential environmental impact of AI deployments also raises alarms about sustainability, challenging the notion that technological advancements inherently lead to positive ecological outcomes. Furthermore, the concentration of power among a few tech giants and the lack of regulatory frameworks could stifle competition and innovation, posing threats to democratic processes and consumer interests.\n",
      "\n",
      "### Conclusion\n",
      "\n",
      "In light of these diverse perspectives, it is clear that the advancements in AI by 2025 can offer tremendous benefits or lead to profound societal challenges. The ideal path forward lies in a balanced approach that embraces innovation while prioritizing ethical considerations, regulatory frameworks, and inclusive growth strategies. Stakeholders—including policymakers, technologists, and society as a whole—must collaboratively address these challenges to harness AI's potential while safeguarding against its risks. Ultimately, fostering a future where AI serves as an equitable force for good will require ongoing dialogue, critical engagement, and a commitment to addressing the complexities it brings.\n"
     ]
    }
   ],
   "source": [
    "print(chain.invoke({\"input\": \"AI in 2025\"}))"
   ]
  },
  {
   "cell_type": "markdown",
   "id": "6a9aabaf-2ce7-4ce2-ad44-f11b0dfe0f4b",
   "metadata": {},
   "source": [
    "#### Streaming the output"
   ]
  },
  {
   "cell_type": "code",
   "execution_count": 4,
   "id": "58380571-fa69-426e-95a8-d17ebd61d147",
   "metadata": {},
   "outputs": [
    {
     "name": "stdout",
     "output_type": "stream",
     "text": [
      "The arguments put forth for the positive outlook of the world economy in 2025 are compelling, reflecting a potential landscape characterized by technological advancements and growth in emerging markets. However, it's important to critically analyze these claims in the context of the challenges that may undermine this optimistic scenario.\n",
      "\n",
      "### Critiques of the Positive Outlook Arguments\n",
      "\n",
      "1. **Technological Advancements**: While technology can enhance productivity, the benefits may not be evenly distributed. Automation can lead to job displacement, particularly in low-skill sectors, potentially exacerbating unemployment and inequality.\n",
      "\n",
      "2. **Sustainability and Green Economy**: Although the green economy has growth potential, there may be resistance due to vested interests in fossil fuels and traditional industries. Transitioning to sustainable practices can also be costly and complex.\n",
      "\n",
      "3. **E-commerce and Digital Transformation**: The digital divide presents a significant challenge. Not everyone has equal access to digital platforms, and this gap may perpetuate income disparities and limit the economic benefits of digital transformation.\n",
      "\n",
      "4. **Global Trade Recovery**: The optimistic scenario of stable trade faces risks from geopolitical tensions. Nationalism and protectionist policies can hinder global cooperation, directly impacting trade relationships and economic stability.\n",
      "\n",
      "5. **Demographic Shifts**: The emerging middle class in certain regions may also face constraints such as economic instability or inadequate infrastructure, which could limit their spending power and reduce overall economic growth.\n",
      "\n",
      "6. **Increased Investment in Infrastructure**: While infrastructure investments can create jobs, they often require substantial public funding. If governments face budget constraints or political opposition, these projects may be delayed or scaled back, limiting their economic impact.\n",
      "\n",
      "7. **Resilience and Adaptability**: While businesses are becoming more resilient, not all companies can adapt at the same pace. Smaller firms may struggle more than larger corporations, exacerbating market concentration and limiting competition.\n",
      "\n",
      "8. **Collaborative International Efforts**: Achieving effective international cooperation can be challenging given disparate national interests, particularly in times of crisis. This may hinder global initiatives aimed at economic recovery.\n",
      "\n",
      "9. **Financial Innovations**: The rise of FinTech may improve access to capital, but it may also lead to increased financial inequalities. Smaller businesses may face higher risks if they cannot keep up with technological disruptions in finance.\n",
      "\n",
      "10. **Focus on Health and Well-being**: While investments in health can bolster productivity, the burden of health care costs can also strain public finances and impact overall economic growth if not managed effectively.\n",
      "\n",
      "### Conclusion\n",
      "\n",
      "In summary, while the positive outlook for the world economy by 2025 highlights significant opportunities for growth driven by technology and innovation, a careful examination of the challenges reveals a more nuanced reality. Geopolitical instability, income inequality, and structural changes in labor markets pose substantial risks. \n",
      "\n",
      "The future economic landscape will likely depend on the ability of governments, industries, and societies to navigate these complexities. It is imperative for policymakers to proactively address potential challenges to ensure that economic growth is inclusive and sustainable. By fostering cooperation, investing in education and workforce development, and embracing equitable technological progress, nations can better position themselves to harness the benefits of a dynamic global economy while mitigating its risks. Thus, an optimistic outlook must be tempered with a realistic understanding of the hurdles that remain on the path to economic recovery and growth."
     ]
    }
   ],
   "source": [
    "## The final output of the chain is processed by StrOutputParser, so it can be directly streamed as output s\n",
    "for s in chain.stream({\"input\": \"World Economy in 2025\"}):\n",
    "    print(s, end=\"\", flush=True)"
   ]
  },
  {
   "cell_type": "code",
   "execution_count": null,
   "id": "f5ace837-8c01-4661-832e-d0b7ec4e20c6",
   "metadata": {},
   "outputs": [],
   "source": []
  }
 ],
 "metadata": {
  "kernelspec": {
   "display_name": "agents101_env",
   "language": "python",
   "name": "python3"
  },
  "language_info": {
   "codemirror_mode": {
    "name": "ipython",
    "version": 3
   },
   "file_extension": ".py",
   "mimetype": "text/x-python",
   "name": "python",
   "nbconvert_exporter": "python",
   "pygments_lexer": "ipython3",
   "version": "3.11.2"
  }
 },
 "nbformat": 4,
 "nbformat_minor": 5
}
